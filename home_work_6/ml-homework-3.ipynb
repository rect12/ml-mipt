{
 "cells": [
  {
   "cell_type": "code",
   "execution_count": null,
   "metadata": {
    "collapsed": true
   },
   "outputs": [],
   "source": [
    "!mkdir cifar10\n",
    "!curl -o cifar-10-python.tar.gz https://www.cs.toronto.edu/~kriz/cifar-10-python.tar.gz\n",
    "!tar -xvzf cifar-10-python.tar.gz -C cifar10"
   ]
  },
  {
   "cell_type": "markdown",
   "metadata": {},
   "source": [
    "Для данного задания взял нейронную сеть:\n",
    "https://github.com/Lasagne/Recipes/blob/master/papers/deep_residual_learning/Deep_Residual_Learning_CIFAR-10.py\n",
    "и попытался ее обучить"
   ]
  },
  {
   "cell_type": "markdown",
   "metadata": {},
   "source": [
    "<h1 align=\"center\">First of all -- Checking Questions</h1> \n",
    "\n",
    "**Вопрос 1**: Чем отличаются современные сверточные сети от сетей 5 летней давности?\n",
    "\n",
    "<Ответ>\n",
    "\n",
    "**Вопрос 2**: Какие неприятности могут возникнуть во время обучения современных нейросетей?\n",
    "\n",
    "<Ответ>\n",
    "\n",
    "**Вопрос 3**: У вас есть очень маленький датасет из 100 картинок, но вы очень хотите использовать нейросеть, какие неприятности вас ждут и как их решить?\n",
    "\n",
    "<Ответ>\n",
    "\n",
    "**Вопрос 4**: У вас есть очень маленький датасет из 100 картинок, классификация, но вы очень хотите использовать нейросеть, какие неприятности вас ждут и как их решить? что делать если первый вариант  решения не заработает?\n",
    "\n",
    "<Ответ>\n",
    "\n",
    "**Вопрос 5**: Как сделать стайл трансфер для музыки? oO\n",
    "\n",
    "<Ответ>"
   ]
  },
  {
   "cell_type": "markdown",
   "metadata": {},
   "source": [
    "### Соберите нейронку: \n",
    "- Many times x (Conv+Pool)\n",
    "- Many small convolutions like 3x3\n",
    "- Batch Norm \n",
    "- Residual Connection\n",
    "- Data Augmentation \n",
    "- Learning rate Schedule \n",
    "- ...\n",
    "\n",
    "### Для вдохновения \n",
    "- http://torch.ch/blog/2015/07/30/cifar.html\n",
    "- http://www.robots.ox.ac.uk/~vgg/research/very_deep/\n",
    "- https://www.cs.unc.edu/~wliu/papers/GoogLeNet.pdf\n",
    "- https://github.com/szagoruyko/wide-residual-networks \n",
    "\n",
    "### Самое интересное\n",
    "- Для сдачи задания нужно набрать на точность тесте > **92.5**% (это займет много времени, торопитесь :) )\n",
    "- Для получения бонусных баллов > **95.0**%\n",
    "- Будет очень хорошо если вы придумаете свою архитектуру или сможете обучить что-то из вышеперечисленного :)\n",
    "- А для обучения всего этого добра вам будет куда удобнее использовать GPU на Amazon \n",
    "    - Инструкция https://github.com/persiyanov/ml-mipt/tree/master/amazon-howto \n",
    "    - Вам помогут tmux, CuDNN, ssh tunnel, nvidia-smi, ... \n",
    "    - Wish you get fun :)"
   ]
  },
  {
   "cell_type": "code",
   "execution_count": 1,
   "metadata": {
    "collapsed": true
   },
   "outputs": [],
   "source": [
    "import numpy as np\n",
    "import matplotlib.pyplot as plt\n",
    "import pygpu\n",
    "\n",
    "%matplotlib inline"
   ]
  },
  {
   "cell_type": "code",
   "execution_count": 2,
   "metadata": {},
   "outputs": [
    {
     "name": "stderr",
     "output_type": "stream",
     "text": [
      "Using cuDNN version 5110 on context None\n",
      "Mapped name None to device cuda0: GRID K520 (0000:00:03.0)\n"
     ]
    }
   ],
   "source": [
    "import sys\n",
    "import os\n",
    "import time\n",
    "import string\n",
    "import random\n",
    "import pickle\n",
    "\n",
    "import numpy as np\n",
    "import theano\n",
    "import theano.tensor as T\n",
    "import lasagne\n",
    "\n",
    "# for the larger networks (n>=9), we need to adjust pythons recursion limit\n",
    "sys.setrecursionlimit(10000)\n",
    "\n",
    "# ##################### Load data from CIFAR-10 dataset #######################\n",
    "# this code assumes the cifar dataset from 'https://www.cs.toronto.edu/~kriz/cifar-10-python.tar.gz'\n",
    "# has been extracted in current working directory\n",
    "\n",
    "def unpickle(file):\n",
    "    import pickle\n",
    "    fo = open(file, 'rb')\n",
    "    dict = pickle.load(fo, encoding='bytes')\n",
    "    fo.close()\n",
    "    return dict\n",
    "\n",
    "def load_data():\n",
    "    xs = []\n",
    "    ys = []\n",
    "    for j in range(5):\n",
    "      d = unpickle('cifar10/cifar-10-batches-py/data_batch_' + str(j+1))\n",
    "      x = d[b'data']\n",
    "      y = d[b'labels']\n",
    "      xs.append(x)\n",
    "      ys.append(y)\n",
    "\n",
    "    d = unpickle('cifar10/cifar-10-batches-py/test_batch')\n",
    "    xs.append(d[b'data'])\n",
    "    ys.append(d[b'labels'])\n",
    "\n",
    "    x = np.concatenate(xs) / np.float32(255)\n",
    "    y = np.concatenate(ys)\n",
    "    x = np.dstack((x[:, :1024], x[:, 1024:2048], x[:, 2048:]))\n",
    "    x = x.reshape((x.shape[0], 32, 32, 3)).transpose(0,3,1,2)\n",
    "\n",
    "    # subtract per-pixel mean\n",
    "    pixel_mean = np.mean(x[0:50000],axis=0)\n",
    "    #pickle.dump(pixel_mean, open(\"cifar10-pixel_mean.pkl\",\"wb\"))\n",
    "    x -= pixel_mean\n",
    "\n",
    "    # create mirrored images\n",
    "    X_train = x[0:50000,:,:,:]\n",
    "    Y_train = y[0:50000]\n",
    "    X_train_flip = X_train[:,:,:,::-1]\n",
    "    Y_train_flip = Y_train\n",
    "    X_train = np.concatenate((X_train,X_train_flip),axis=0)\n",
    "    Y_train = np.concatenate((Y_train,Y_train_flip),axis=0)\n",
    "\n",
    "    X_test = x[50000:,:,:,:]\n",
    "    Y_test = y[50000:]\n",
    "\n",
    "    return (\n",
    "        lasagne.utils.floatX(X_train),\n",
    "        Y_train.astype('int32'),\n",
    "        lasagne.utils.floatX(X_test),\n",
    "        Y_test.astype('int32'),\n",
    "    )"
   ]
  },
  {
   "cell_type": "code",
   "execution_count": 3,
   "metadata": {},
   "outputs": [],
   "source": [
    "X_train, y_train, X_test, y_test = load_data()"
   ]
  },
  {
   "cell_type": "code",
   "execution_count": 4,
   "metadata": {
    "collapsed": true
   },
   "outputs": [],
   "source": [
    "# ##################### Build the neural network model #######################\n",
    "\n",
    "from lasagne.layers import Conv2DLayer as ConvLayer\n",
    "#from lasagne.layers.dnn import Conv2DDNNLayer as ConvLayer\n",
    "from lasagne.layers import ElemwiseSumLayer\n",
    "from lasagne.layers import InputLayer\n",
    "from lasagne.layers import DenseLayer\n",
    "from lasagne.layers import GlobalPoolLayer\n",
    "from lasagne.layers import PadLayer\n",
    "from lasagne.layers import ExpressionLayer\n",
    "from lasagne.layers import NonlinearityLayer\n",
    "from lasagne.nonlinearities import softmax, rectify\n",
    "from lasagne.layers import batch_norm\n",
    "\n",
    "def build_cnn(input_var=None, n=9):\n",
    "    # create a residual learning building block with two stacked 3x3 convlayers as in paper\n",
    "    def residual_block(l, increase_dim=False, projection=False):\n",
    "        input_num_filters = l.output_shape[1]\n",
    "        if increase_dim:\n",
    "            first_stride = (2,2)\n",
    "            out_num_filters = input_num_filters * 2\n",
    "        else:\n",
    "            first_stride = (1,1)\n",
    "            out_num_filters = input_num_filters\n",
    "\n",
    "        stack_1 = batch_norm(ConvLayer(l, num_filters=out_num_filters, filter_size=(3,3), stride=first_stride, nonlinearity=rectify, pad='same', W=lasagne.init.HeNormal(gain='relu'), flip_filters=False))\n",
    "        stack_2 = batch_norm(ConvLayer(stack_1, num_filters=out_num_filters, filter_size=(3,3), stride=(1,1), nonlinearity=None, pad='same', W=lasagne.init.HeNormal(gain='relu'), flip_filters=False))\n",
    "        \n",
    "        # add shortcut connections\n",
    "        if increase_dim:\n",
    "            if projection:\n",
    "                # projection shortcut, as option B in paper\n",
    "                projection = batch_norm(ConvLayer(l, num_filters=out_num_filters, filter_size=(1,1), stride=(2,2), nonlinearity=None, pad='same', b=None, flip_filters=False))\n",
    "                block = NonlinearityLayer(ElemwiseSumLayer([stack_2, projection]),nonlinearity=rectify)\n",
    "            else:\n",
    "                # identity shortcut, as option A in paper\n",
    "                identity = ExpressionLayer(\n",
    "                    l, lambda X: X[:, :, ::2, ::2], lambda s: (s[0], s[1], int(s[2]/2), int(s[3]/2))\n",
    "                )\n",
    "                padding = PadLayer(identity, [int(out_num_filters/4),0,0], batch_ndim=1)\n",
    "                block = NonlinearityLayer(ElemwiseSumLayer([stack_2, padding]),nonlinearity=rectify)\n",
    "        else:\n",
    "            block = NonlinearityLayer(ElemwiseSumLayer([stack_2, l]),nonlinearity=rectify)\n",
    "        \n",
    "        return block\n",
    "\n",
    "    # Building the network\n",
    "    l_in = InputLayer(shape=(None, 3, 32, 32), input_var=input_var)\n",
    "\n",
    "    # first layer, output is 16 x 32 x 32\n",
    "    l = batch_norm(ConvLayer(l_in, num_filters=16, filter_size=(3,3), stride=(1,1), nonlinearity=rectify, pad='same', W=lasagne.init.HeNormal(gain='relu'), flip_filters=False))\n",
    "    \n",
    "    # first stack of residual blocks, output is 16 x 32 x 32\n",
    "    for _ in range(n):\n",
    "        l = residual_block(l)\n",
    "\n",
    "    # second stack of residual blocks, output is 32 x 16 x 16\n",
    "    l = residual_block(l, increase_dim=True)\n",
    "    for _ in range(1,n):\n",
    "        l = residual_block(l)\n",
    "\n",
    "    # third stack of residual blocks, output is 64 x 8 x 8\n",
    "    l = residual_block(l, increase_dim=True)\n",
    "    for _ in range(1,n):\n",
    "        l = residual_block(l)\n",
    "    \n",
    "    # average pooling\n",
    "    l = GlobalPoolLayer(l)\n",
    "\n",
    "    # fully connected layer\n",
    "    network = DenseLayer(\n",
    "            l, num_units=10,\n",
    "            W=lasagne.init.HeNormal(),\n",
    "            nonlinearity=softmax)\n",
    "\n",
    "    return network"
   ]
  },
  {
   "cell_type": "markdown",
   "metadata": {},
   "source": [
    "### Вот и всё, пошли её учить"
   ]
  },
  {
   "cell_type": "code",
   "execution_count": 5,
   "metadata": {
    "collapsed": true
   },
   "outputs": [],
   "source": [
    "# ############################# Batch iterator ###############################\n",
    "\n",
    "def iterate_minibatches(inputs, targets, batchsize, shuffle=False, augment=False):\n",
    "    assert len(inputs) == len(targets)\n",
    "    if shuffle:\n",
    "        indices = np.arange(len(inputs))\n",
    "        np.random.shuffle(indices)\n",
    "    for start_idx in range(0, len(inputs) - batchsize + 1, batchsize):\n",
    "        if shuffle:\n",
    "            excerpt = indices[start_idx:start_idx + batchsize]\n",
    "        else:\n",
    "            excerpt = slice(start_idx, start_idx + batchsize)\n",
    "        if augment:\n",
    "            padded = np.pad(inputs[excerpt],((0,0),(0,0),(4,4),(4,4)),mode='constant')\n",
    "            random_cropped = np.zeros(inputs[excerpt].shape, dtype=np.float32)\n",
    "            crops = np.random.random_integers(0,high=8,size=(batchsize,2))\n",
    "            for r in range(batchsize):\n",
    "                random_cropped[r,:,:,:] = padded[r,:,crops[r,0]:(crops[r,0]+32),crops[r,1]:(crops[r,1]+32)]\n",
    "            inp_exc = random_cropped\n",
    "        else:\n",
    "            inp_exc = inputs[excerpt]\n",
    "\n",
    "        yield inp_exc, targets[excerpt]"
   ]
  },
  {
   "cell_type": "code",
   "execution_count": 6,
   "metadata": {},
   "outputs": [],
   "source": [
    "import lasagne\n",
    "from theano import tensor as T\n",
    "from lasagne.nonlinearities import *\n",
    "\n",
    "input_X = T.tensor4(\"X\")\n",
    "target_y = T.vector(\"target Y integer\",dtype='int32')"
   ]
  },
  {
   "cell_type": "code",
   "execution_count": 7,
   "metadata": {},
   "outputs": [],
   "source": [
    "net = build_cnn(input_X)"
   ]
  },
  {
   "cell_type": "code",
   "execution_count": 8,
   "metadata": {},
   "outputs": [
    {
     "name": "stdout",
     "output_type": "stream",
     "text": [
      "[W, beta, gamma, W, beta, gamma, W, beta, gamma, W, beta, gamma, W, beta, gamma, W, beta, gamma, W, beta, gamma, W, beta, gamma, W, beta, gamma, W, beta, gamma, W, beta, gamma, W, beta, gamma, W, beta, gamma, W, beta, gamma, W, beta, gamma, W, beta, gamma, W, beta, gamma, W, beta, gamma, W, beta, gamma, W, beta, gamma, W, beta, gamma, W, beta, gamma, W, beta, gamma, W, beta, gamma, W, beta, gamma, W, beta, gamma, W, beta, gamma, W, beta, gamma, W, beta, gamma, W, beta, gamma, W, beta, gamma, W, beta, gamma, W, beta, gamma, W, beta, gamma, W, beta, gamma, W, beta, gamma, W, beta, gamma, W, beta, gamma, W, beta, gamma, W, beta, gamma, W, beta, gamma, W, beta, gamma, W, beta, gamma, W, beta, gamma, W, beta, gamma, W, beta, gamma, W, beta, gamma, W, beta, gamma, W, beta, gamma, W, beta, gamma, W, beta, gamma, W, beta, gamma, W, beta, gamma, W, beta, gamma, W, beta, gamma, W, b]\n"
     ]
    }
   ],
   "source": [
    "y_predicted = lasagne.layers.get_output(net)\n",
    "all_weights = lasagne.layers.get_all_params(net, trainable=True)\n",
    "print(all_weights)"
   ]
  },
  {
   "cell_type": "code",
   "execution_count": 9,
   "metadata": {
    "collapsed": true
   },
   "outputs": [],
   "source": [
    "from lasagne.layers import get_all_layers\n",
    "curr_lr = 0.1\n",
    "loss = lasagne.objectives.categorical_crossentropy(y_predicted, target_y).mean()\n",
    "loss += lasagne.regularization.regularize_layer_params(get_all_layers(net), lasagne.regularization.l2) * 0.0001\n",
    "accuracy = lasagne.objectives.categorical_accuracy(y_predicted, target_y).mean()"
   ]
  },
  {
   "cell_type": "code",
   "execution_count": 10,
   "metadata": {},
   "outputs": [],
   "source": [
    "updates = lasagne.updates.momentum(loss, all_weights, learning_rate=curr_lr, momentum=0.9)"
   ]
  },
  {
   "cell_type": "code",
   "execution_count": 11,
   "metadata": {
    "collapsed": true
   },
   "outputs": [],
   "source": [
    "train_fun = theano.function([input_X, target_y], [loss, accuracy], updates=updates, allow_input_downcast=True)\n",
    "accuracy_fun = theano.function([input_X, target_y], accuracy, allow_input_downcast=True)"
   ]
  },
  {
   "cell_type": "markdown",
   "metadata": {},
   "source": [
    "# Процесс обучения"
   ]
  },
  {
   "cell_type": "code",
   "execution_count": 12,
   "metadata": {
    "scrolled": false
   },
   "outputs": [
    {
     "name": "stderr",
     "output_type": "stream",
     "text": [
      "/home/ec2-user/anaconda3/lib/python3.6/site-packages/ipykernel/__main__.py:19: DeprecationWarning: This function is deprecated. Please call randint(0, 8 + 1) instead\n"
     ]
    },
    {
     "name": "stdout",
     "output_type": "stream",
     "text": [
      "Epoch 1 of 101 took 378.639s\n",
      "  training loss (in-iteration):\t\t2.983430\n",
      "  train accuracy:\t\t24.83 %\n",
      "  validation accuracy:\t\t43.26 %\n",
      "Epoch 2 of 101 took 378.553s\n",
      "  training loss (in-iteration):\t\t2.056971\n",
      "  train accuracy:\t\t50.94 %\n",
      "  validation accuracy:\t\t60.61 %\n",
      "Epoch 3 of 101 took 378.584s\n",
      "  training loss (in-iteration):\t\t1.551922\n",
      "  train accuracy:\t\t65.46 %\n",
      "  validation accuracy:\t\t69.97 %\n",
      "Epoch 4 of 101 took 378.566s\n",
      "  training loss (in-iteration):\t\t1.252576\n",
      "  train accuracy:\t\t73.19 %\n",
      "  validation accuracy:\t\t76.62 %\n",
      "Epoch 5 of 101 took 378.594s\n",
      "  training loss (in-iteration):\t\t1.069197\n",
      "  train accuracy:\t\t77.51 %\n",
      "  validation accuracy:\t\t78.84 %\n",
      "Epoch 6 of 101 took 378.600s\n",
      "  training loss (in-iteration):\t\t0.954111\n",
      "  train accuracy:\t\t80.00 %\n",
      "  validation accuracy:\t\t80.04 %\n",
      "Epoch 7 of 101 took 378.585s\n",
      "  training loss (in-iteration):\t\t0.874004\n",
      "  train accuracy:\t\t81.80 %\n",
      "  validation accuracy:\t\t80.34 %\n",
      "Epoch 8 of 101 took 378.685s\n",
      "  training loss (in-iteration):\t\t0.814204\n",
      "  train accuracy:\t\t83.19 %\n",
      "  validation accuracy:\t\t82.70 %\n",
      "Epoch 9 of 101 took 378.630s\n",
      "  training loss (in-iteration):\t\t0.773873\n",
      "  train accuracy:\t\t84.12 %\n",
      "  validation accuracy:\t\t83.07 %\n",
      "Epoch 10 of 101 took 378.646s\n",
      "  training loss (in-iteration):\t\t0.739178\n",
      "  train accuracy:\t\t84.98 %\n",
      "  validation accuracy:\t\t84.11 %\n",
      "Epoch 11 of 101 took 378.707s\n",
      "  training loss (in-iteration):\t\t0.712326\n",
      "  train accuracy:\t\t85.67 %\n",
      "  validation accuracy:\t\t84.17 %\n",
      "Epoch 12 of 101 took 378.720s\n",
      "  training loss (in-iteration):\t\t0.690924\n",
      "  train accuracy:\t\t86.33 %\n",
      "  validation accuracy:\t\t84.83 %\n",
      "Epoch 13 of 101 took 378.752s\n",
      "  training loss (in-iteration):\t\t0.676447\n",
      "  train accuracy:\t\t86.81 %\n",
      "  validation accuracy:\t\t84.51 %\n",
      "Epoch 14 of 101 took 378.816s\n",
      "  training loss (in-iteration):\t\t0.667935\n",
      "  train accuracy:\t\t87.26 %\n",
      "  validation accuracy:\t\t85.00 %\n",
      "Epoch 15 of 101 took 379.018s\n",
      "  training loss (in-iteration):\t\t0.653994\n",
      "  train accuracy:\t\t87.72 %\n",
      "  validation accuracy:\t\t85.92 %\n",
      "Epoch 16 of 101 took 379.170s\n",
      "  training loss (in-iteration):\t\t0.646993\n",
      "  train accuracy:\t\t88.00 %\n",
      "  validation accuracy:\t\t86.01 %\n",
      "Epoch 17 of 101 took 379.187s\n",
      "  training loss (in-iteration):\t\t0.641842\n",
      "  train accuracy:\t\t88.20 %\n",
      "  validation accuracy:\t\t85.07 %\n",
      "Epoch 18 of 101 took 379.214s\n",
      "  training loss (in-iteration):\t\t0.634291\n",
      "  train accuracy:\t\t88.54 %\n",
      "  validation accuracy:\t\t86.05 %\n",
      "Epoch 19 of 101 took 379.260s\n",
      "  training loss (in-iteration):\t\t0.630986\n",
      "  train accuracy:\t\t88.89 %\n",
      "  validation accuracy:\t\t86.30 %\n",
      "Epoch 20 of 101 took 379.191s\n",
      "  training loss (in-iteration):\t\t0.626742\n",
      "  train accuracy:\t\t88.90 %\n",
      "  validation accuracy:\t\t86.12 %\n",
      "Epoch 21 of 101 took 379.283s\n",
      "  training loss (in-iteration):\t\t0.626258\n",
      "  train accuracy:\t\t89.07 %\n",
      "  validation accuracy:\t\t85.60 %\n",
      "Epoch 22 of 101 took 379.300s\n",
      "  training loss (in-iteration):\t\t0.616774\n",
      "  train accuracy:\t\t89.47 %\n",
      "  validation accuracy:\t\t86.46 %\n",
      "Epoch 23 of 101 took 379.336s\n",
      "  training loss (in-iteration):\t\t0.615653\n",
      "  train accuracy:\t\t89.40 %\n",
      "  validation accuracy:\t\t86.74 %\n",
      "Epoch 24 of 101 took 379.352s\n",
      "  training loss (in-iteration):\t\t0.609764\n",
      "  train accuracy:\t\t89.69 %\n",
      "  validation accuracy:\t\t85.66 %\n",
      "Epoch 25 of 101 took 379.400s\n",
      "  training loss (in-iteration):\t\t0.609612\n",
      "  train accuracy:\t\t89.85 %\n",
      "  validation accuracy:\t\t86.99 %\n",
      "Epoch 26 of 101 took 379.419s\n",
      "  training loss (in-iteration):\t\t0.613344\n",
      "  train accuracy:\t\t89.69 %\n",
      "  validation accuracy:\t\t87.00 %\n",
      "Epoch 27 of 101 took 379.422s\n",
      "  training loss (in-iteration):\t\t0.604253\n",
      "  train accuracy:\t\t90.08 %\n",
      "  validation accuracy:\t\t86.21 %\n",
      "Epoch 28 of 101 took 379.441s\n",
      "  training loss (in-iteration):\t\t0.606852\n",
      "  train accuracy:\t\t90.01 %\n",
      "  validation accuracy:\t\t87.39 %\n",
      "Epoch 29 of 101 took 379.410s\n",
      "  training loss (in-iteration):\t\t0.601744\n",
      "  train accuracy:\t\t90.16 %\n",
      "  validation accuracy:\t\t87.67 %\n",
      "Epoch 30 of 101 took 379.434s\n",
      "  training loss (in-iteration):\t\t0.601670\n",
      "  train accuracy:\t\t90.30 %\n",
      "  validation accuracy:\t\t86.47 %\n",
      "Epoch 31 of 101 took 379.456s\n",
      "  training loss (in-iteration):\t\t0.597068\n",
      "  train accuracy:\t\t90.52 %\n",
      "  validation accuracy:\t\t86.40 %\n",
      "Epoch 32 of 101 took 379.467s\n",
      "  training loss (in-iteration):\t\t0.598936\n",
      "  train accuracy:\t\t90.44 %\n",
      "  validation accuracy:\t\t87.20 %\n",
      "Epoch 33 of 101 took 379.485s\n",
      "  training loss (in-iteration):\t\t0.596534\n",
      "  train accuracy:\t\t90.58 %\n",
      "  validation accuracy:\t\t86.00 %\n",
      "Epoch 34 of 101 took 379.459s\n",
      "  training loss (in-iteration):\t\t0.592602\n",
      "  train accuracy:\t\t90.66 %\n",
      "  validation accuracy:\t\t87.43 %\n",
      "Epoch 35 of 101 took 379.538s\n",
      "  training loss (in-iteration):\t\t0.587480\n",
      "  train accuracy:\t\t90.82 %\n",
      "  validation accuracy:\t\t86.10 %\n",
      "Epoch 36 of 101 took 379.533s\n",
      "  training loss (in-iteration):\t\t0.593920\n",
      "  train accuracy:\t\t90.66 %\n",
      "  validation accuracy:\t\t87.81 %\n",
      "Epoch 37 of 101 took 379.485s\n",
      "  training loss (in-iteration):\t\t0.590746\n",
      "  train accuracy:\t\t90.83 %\n",
      "  validation accuracy:\t\t87.54 %\n",
      "Epoch 38 of 101 took 379.527s\n",
      "  training loss (in-iteration):\t\t0.588070\n",
      "  train accuracy:\t\t90.92 %\n",
      "  validation accuracy:\t\t87.40 %\n",
      "Epoch 39 of 101 took 379.535s\n",
      "  training loss (in-iteration):\t\t0.583949\n",
      "  train accuracy:\t\t90.98 %\n",
      "  validation accuracy:\t\t86.00 %\n",
      "Epoch 40 of 101 took 379.503s\n",
      "  training loss (in-iteration):\t\t0.590341\n",
      "  train accuracy:\t\t90.84 %\n",
      "  validation accuracy:\t\t87.35 %\n",
      "Epoch 41 of 101 took 379.554s\n",
      "  training loss (in-iteration):\t\t0.587133\n",
      "  train accuracy:\t\t90.96 %\n",
      "  validation accuracy:\t\t87.10 %\n",
      "New LR: 0.010000000000000002\n",
      "Epoch 42 of 101 took 378.057s\n",
      "  training loss (in-iteration):\t\t0.453139\n",
      "  train accuracy:\t\t95.75 %\n",
      "  validation accuracy:\t\t90.94 %\n",
      "Epoch 43 of 101 took 378.012s\n",
      "  training loss (in-iteration):\t\t0.407065\n",
      "  train accuracy:\t\t97.00 %\n",
      "  validation accuracy:\t\t91.09 %\n",
      "Epoch 44 of 101 took 378.029s\n",
      "  training loss (in-iteration):\t\t0.383804\n",
      "  train accuracy:\t\t97.50 %\n",
      "  validation accuracy:\t\t91.50 %\n",
      "Epoch 45 of 101 took 378.037s\n",
      "  training loss (in-iteration):\t\t0.364105\n",
      "  train accuracy:\t\t97.96 %\n",
      "  validation accuracy:\t\t91.43 %\n",
      "Epoch 46 of 101 took 378.062s\n",
      "  training loss (in-iteration):\t\t0.349151\n",
      "  train accuracy:\t\t98.18 %\n",
      "  validation accuracy:\t\t91.49 %\n",
      "Epoch 47 of 101 took 378.061s\n",
      "  training loss (in-iteration):\t\t0.334067\n",
      "  train accuracy:\t\t98.47 %\n",
      "  validation accuracy:\t\t91.49 %\n",
      "Epoch 48 of 101 took 377.788s\n",
      "  training loss (in-iteration):\t\t0.321770\n",
      "  train accuracy:\t\t98.62 %\n",
      "  validation accuracy:\t\t91.44 %\n",
      "Epoch 49 of 101 took 377.709s\n",
      "  training loss (in-iteration):\t\t0.309921\n",
      "  train accuracy:\t\t98.78 %\n",
      "  validation accuracy:\t\t91.52 %\n",
      "Epoch 50 of 101 took 377.730s\n",
      "  training loss (in-iteration):\t\t0.301785\n",
      "  train accuracy:\t\t98.82 %\n",
      "  validation accuracy:\t\t91.50 %\n",
      "Epoch 51 of 101 took 377.978s\n",
      "  training loss (in-iteration):\t\t0.291025\n",
      "  train accuracy:\t\t98.95 %\n",
      "  validation accuracy:\t\t91.26 %\n",
      "Epoch 52 of 101 took 377.736s\n",
      "  training loss (in-iteration):\t\t0.281566\n",
      "  train accuracy:\t\t99.09 %\n",
      "  validation accuracy:\t\t91.44 %\n",
      "Epoch 53 of 101 took 377.741s\n",
      "  training loss (in-iteration):\t\t0.273927\n",
      "  train accuracy:\t\t99.13 %\n",
      "  validation accuracy:\t\t91.55 %\n",
      "Epoch 54 of 101 took 377.796s\n",
      "  training loss (in-iteration):\t\t0.266689\n",
      "  train accuracy:\t\t99.18 %\n",
      "  validation accuracy:\t\t91.66 %\n"
     ]
    },
    {
     "ename": "KeyboardInterrupt",
     "evalue": "",
     "output_type": "error",
     "traceback": [
      "\u001b[0;31m---------------------------------------------------------------------------\u001b[0m",
      "\u001b[0;31mKeyboardInterrupt\u001b[0m                         Traceback (most recent call last)",
      "\u001b[0;32m<ipython-input-12-9c1328cb5797>\u001b[0m in \u001b[0;36m<module>\u001b[0;34m()\u001b[0m\n\u001b[1;32m     15\u001b[0m     \u001b[0;32mfor\u001b[0m \u001b[0mbatch\u001b[0m \u001b[0;32min\u001b[0m \u001b[0miterate_minibatches\u001b[0m\u001b[0;34m(\u001b[0m\u001b[0mX_train\u001b[0m\u001b[0;34m,\u001b[0m \u001b[0my_train\u001b[0m\u001b[0;34m,\u001b[0m \u001b[0mbatch_size\u001b[0m\u001b[0;34m,\u001b[0m \u001b[0mshuffle\u001b[0m\u001b[0;34m=\u001b[0m\u001b[0;32mTrue\u001b[0m\u001b[0;34m,\u001b[0m \u001b[0maugment\u001b[0m\u001b[0;34m=\u001b[0m\u001b[0;32mTrue\u001b[0m\u001b[0;34m)\u001b[0m\u001b[0;34m:\u001b[0m\u001b[0;34m\u001b[0m\u001b[0m\n\u001b[1;32m     16\u001b[0m         \u001b[0minputs\u001b[0m\u001b[0;34m,\u001b[0m \u001b[0mtargets\u001b[0m \u001b[0;34m=\u001b[0m \u001b[0mbatch\u001b[0m\u001b[0;34m\u001b[0m\u001b[0m\n\u001b[0;32m---> 17\u001b[0;31m         \u001b[0mtrain_err_batch\u001b[0m\u001b[0;34m,\u001b[0m \u001b[0mtrain_acc_batch\u001b[0m \u001b[0;34m=\u001b[0m \u001b[0mtrain_fun\u001b[0m\u001b[0;34m(\u001b[0m\u001b[0minputs\u001b[0m\u001b[0;34m,\u001b[0m \u001b[0mtargets\u001b[0m\u001b[0;34m)\u001b[0m\u001b[0;34m\u001b[0m\u001b[0m\n\u001b[0m\u001b[1;32m     18\u001b[0m         \u001b[0mtrain_err\u001b[0m \u001b[0;34m+=\u001b[0m \u001b[0mtrain_err_batch\u001b[0m\u001b[0;34m\u001b[0m\u001b[0m\n\u001b[1;32m     19\u001b[0m         \u001b[0mtrain_acc\u001b[0m \u001b[0;34m+=\u001b[0m \u001b[0mtrain_acc_batch\u001b[0m\u001b[0;34m\u001b[0m\u001b[0m\n",
      "\u001b[0;32m/home/ec2-user/anaconda3/lib/python3.6/site-packages/theano/compile/function_module.py\u001b[0m in \u001b[0;36m__call__\u001b[0;34m(self, *args, **kwargs)\u001b[0m\n\u001b[1;32m    882\u001b[0m         \u001b[0;32mtry\u001b[0m\u001b[0;34m:\u001b[0m\u001b[0;34m\u001b[0m\u001b[0m\n\u001b[1;32m    883\u001b[0m             \u001b[0moutputs\u001b[0m \u001b[0;34m=\u001b[0m\u001b[0;31m\\\u001b[0m\u001b[0;34m\u001b[0m\u001b[0m\n\u001b[0;32m--> 884\u001b[0;31m                 \u001b[0mself\u001b[0m\u001b[0;34m.\u001b[0m\u001b[0mfn\u001b[0m\u001b[0;34m(\u001b[0m\u001b[0;34m)\u001b[0m \u001b[0;32mif\u001b[0m \u001b[0moutput_subset\u001b[0m \u001b[0;32mis\u001b[0m \u001b[0;32mNone\u001b[0m \u001b[0;32melse\u001b[0m\u001b[0;31m\\\u001b[0m\u001b[0;34m\u001b[0m\u001b[0m\n\u001b[0m\u001b[1;32m    885\u001b[0m                 \u001b[0mself\u001b[0m\u001b[0;34m.\u001b[0m\u001b[0mfn\u001b[0m\u001b[0;34m(\u001b[0m\u001b[0moutput_subset\u001b[0m\u001b[0;34m=\u001b[0m\u001b[0moutput_subset\u001b[0m\u001b[0;34m)\u001b[0m\u001b[0;34m\u001b[0m\u001b[0m\n\u001b[1;32m    886\u001b[0m         \u001b[0;32mexcept\u001b[0m \u001b[0mException\u001b[0m\u001b[0;34m:\u001b[0m\u001b[0;34m\u001b[0m\u001b[0m\n",
      "\u001b[0;31mKeyboardInterrupt\u001b[0m: "
     ]
    }
   ],
   "source": [
    "import time\n",
    "\n",
    "num_epochs = 100 #количество проходов по данным\n",
    "\n",
    "batch_size = 128 #размер мини-батча\n",
    "\n",
    "\n",
    "for epoch in range(num_epochs):\n",
    "    # In each epoch, we do a full pass over the training data:\n",
    "    \n",
    "    train_err = 0\n",
    "    train_acc = 0\n",
    "    train_batches = 0\n",
    "    start_time = time.time()\n",
    "    for batch in iterate_minibatches(X_train, y_train, batch_size, shuffle=True, augment=True):\n",
    "        inputs, targets = batch\n",
    "        train_err_batch, train_acc_batch = train_fun(inputs, targets)\n",
    "        train_err += train_err_batch\n",
    "        train_acc += train_acc_batch\n",
    "        train_batches += 1\n",
    "\n",
    "    # And a full pass over the validation data:\n",
    "    val_acc = 0\n",
    "    val_batches = 0\n",
    "    for batch in iterate_minibatches(X_test, y_test, batch_size):\n",
    "        inputs, targets = batch\n",
    "        val_acc += accuracy_fun(inputs, targets)\n",
    "        val_batches += 1\n",
    "\n",
    "    # Then we print the results for this epoch:\n",
    "    print(\"Epoch {} of {} took {:.3f}s\".format(epoch+1, num_epochs+1, time.time() - start_time))\n",
    "    print(\"  training loss (in-iteration):\\t\\t{:.6f}\".format(train_err / train_batches))\n",
    "    print(\"  train accuracy:\\t\\t{:.2f} %\".format(train_acc / train_batches * 100))\n",
    "    print(\"  validation accuracy:\\t\\t{:.2f} %\".format(val_acc / val_batches * 100))\n",
    "\n",
    "    if (epoch + 1) == 41 or (epoch + 1) == 61:\n",
    "        curr_lr = curr_lr * 0.1\n",
    "        print(\"New LR: {}\".format(curr_lr))\n",
    "        updates = lasagne.updates.momentum(loss, all_weights, learning_rate=curr_lr, momentum=0.9)\n",
    "        train_fun = theano.function(\n",
    "            [input_X, target_y], [loss, accuracy], updates=updates, allow_input_downcast=True)\n",
    "        accuracy_fun = theano.function([input_X, target_y], accuracy, allow_input_downcast=True)"
   ]
  },
  {
   "cell_type": "markdown",
   "metadata": {},
   "source": [
    "Так как осталось немного до 92.5 и видно, что accuracy скачет, остановим обучение и уменьшим learning rate раньше запланированного. "
   ]
  },
  {
   "cell_type": "code",
   "execution_count": 14,
   "metadata": {},
   "outputs": [
    {
     "name": "stdout",
     "output_type": "stream",
     "text": [
      "0.010000000000000002\n"
     ]
    }
   ],
   "source": [
    "print(curr_lr)"
   ]
  },
  {
   "cell_type": "code",
   "execution_count": 15,
   "metadata": {},
   "outputs": [
    {
     "name": "stdout",
     "output_type": "stream",
     "text": [
      "New LR: 0.0010000000000000002\n"
     ]
    }
   ],
   "source": [
    "curr_lr = curr_lr * 0.1\n",
    "print(\"New LR: {}\".format(curr_lr))\n",
    "updates = lasagne.updates.momentum(loss, all_weights, learning_rate=curr_lr, momentum=0.9)\n",
    "train_fun = theano.function(\n",
    "            [input_X, target_y], [loss, accuracy], updates=updates, allow_input_downcast=True)\n",
    "accuracy_fun = theano.function([input_X, target_y], accuracy, allow_input_downcast=True)"
   ]
  },
  {
   "cell_type": "code",
   "execution_count": 17,
   "metadata": {},
   "outputs": [
    {
     "name": "stderr",
     "output_type": "stream",
     "text": [
      "/home/ec2-user/anaconda3/lib/python3.6/site-packages/ipykernel/__main__.py:19: DeprecationWarning: This function is deprecated. Please call randint(0, 8 + 1) instead\n"
     ]
    },
    {
     "name": "stdout",
     "output_type": "stream",
     "text": [
      "Epoch 56 of 101 took 379.266s\n",
      "  training loss (in-iteration):\t\t0.256893\n",
      "  train accuracy:\t\t99.43 %\n",
      "  validation accuracy:\t\t91.65 %\n",
      "Epoch 57 of 101 took 379.259s\n",
      "  training loss (in-iteration):\t\t0.252459\n",
      "  train accuracy:\t\t99.57 %\n",
      "  validation accuracy:\t\t91.63 %\n",
      "Epoch 58 of 101 took 379.306s\n",
      "  training loss (in-iteration):\t\t0.251532\n",
      "  train accuracy:\t\t99.59 %\n",
      "  validation accuracy:\t\t91.67 %\n",
      "Epoch 59 of 101 took 379.331s\n",
      "  training loss (in-iteration):\t\t0.250250\n",
      "  train accuracy:\t\t99.59 %\n",
      "  validation accuracy:\t\t91.71 %\n",
      "Epoch 60 of 101 took 379.263s\n",
      "  training loss (in-iteration):\t\t0.248426\n",
      "  train accuracy:\t\t99.65 %\n",
      "  validation accuracy:\t\t91.66 %\n",
      "Epoch 61 of 101 took 379.249s\n",
      "  training loss (in-iteration):\t\t0.247316\n",
      "  train accuracy:\t\t99.65 %\n",
      "  validation accuracy:\t\t91.80 %\n"
     ]
    },
    {
     "ename": "KeyboardInterrupt",
     "evalue": "",
     "output_type": "error",
     "traceback": [
      "\u001b[0;31m---------------------------------------------------------------------------\u001b[0m",
      "\u001b[0;31mKeyboardInterrupt\u001b[0m                         Traceback (most recent call last)",
      "\u001b[0;32m<ipython-input-17-443474d5f35f>\u001b[0m in \u001b[0;36m<module>\u001b[0;34m()\u001b[0m\n\u001b[1;32m     15\u001b[0m     \u001b[0;32mfor\u001b[0m \u001b[0mbatch\u001b[0m \u001b[0;32min\u001b[0m \u001b[0miterate_minibatches\u001b[0m\u001b[0;34m(\u001b[0m\u001b[0mX_train\u001b[0m\u001b[0;34m,\u001b[0m \u001b[0my_train\u001b[0m\u001b[0;34m,\u001b[0m \u001b[0mbatch_size\u001b[0m\u001b[0;34m,\u001b[0m \u001b[0mshuffle\u001b[0m\u001b[0;34m=\u001b[0m\u001b[0;32mTrue\u001b[0m\u001b[0;34m,\u001b[0m \u001b[0maugment\u001b[0m\u001b[0;34m=\u001b[0m\u001b[0;32mTrue\u001b[0m\u001b[0;34m)\u001b[0m\u001b[0;34m:\u001b[0m\u001b[0;34m\u001b[0m\u001b[0m\n\u001b[1;32m     16\u001b[0m         \u001b[0minputs\u001b[0m\u001b[0;34m,\u001b[0m \u001b[0mtargets\u001b[0m \u001b[0;34m=\u001b[0m \u001b[0mbatch\u001b[0m\u001b[0;34m\u001b[0m\u001b[0m\n\u001b[0;32m---> 17\u001b[0;31m         \u001b[0mtrain_err_batch\u001b[0m\u001b[0;34m,\u001b[0m \u001b[0mtrain_acc_batch\u001b[0m \u001b[0;34m=\u001b[0m \u001b[0mtrain_fun\u001b[0m\u001b[0;34m(\u001b[0m\u001b[0minputs\u001b[0m\u001b[0;34m,\u001b[0m \u001b[0mtargets\u001b[0m\u001b[0;34m)\u001b[0m\u001b[0;34m\u001b[0m\u001b[0m\n\u001b[0m\u001b[1;32m     18\u001b[0m         \u001b[0mtrain_err\u001b[0m \u001b[0;34m+=\u001b[0m \u001b[0mtrain_err_batch\u001b[0m\u001b[0;34m\u001b[0m\u001b[0m\n\u001b[1;32m     19\u001b[0m         \u001b[0mtrain_acc\u001b[0m \u001b[0;34m+=\u001b[0m \u001b[0mtrain_acc_batch\u001b[0m\u001b[0;34m\u001b[0m\u001b[0m\n",
      "\u001b[0;32m/home/ec2-user/anaconda3/lib/python3.6/site-packages/theano/compile/function_module.py\u001b[0m in \u001b[0;36m__call__\u001b[0;34m(self, *args, **kwargs)\u001b[0m\n\u001b[1;32m    882\u001b[0m         \u001b[0;32mtry\u001b[0m\u001b[0;34m:\u001b[0m\u001b[0;34m\u001b[0m\u001b[0m\n\u001b[1;32m    883\u001b[0m             \u001b[0moutputs\u001b[0m \u001b[0;34m=\u001b[0m\u001b[0;31m\\\u001b[0m\u001b[0;34m\u001b[0m\u001b[0m\n\u001b[0;32m--> 884\u001b[0;31m                 \u001b[0mself\u001b[0m\u001b[0;34m.\u001b[0m\u001b[0mfn\u001b[0m\u001b[0;34m(\u001b[0m\u001b[0;34m)\u001b[0m \u001b[0;32mif\u001b[0m \u001b[0moutput_subset\u001b[0m \u001b[0;32mis\u001b[0m \u001b[0;32mNone\u001b[0m \u001b[0;32melse\u001b[0m\u001b[0;31m\\\u001b[0m\u001b[0;34m\u001b[0m\u001b[0m\n\u001b[0m\u001b[1;32m    885\u001b[0m                 \u001b[0mself\u001b[0m\u001b[0;34m.\u001b[0m\u001b[0mfn\u001b[0m\u001b[0;34m(\u001b[0m\u001b[0moutput_subset\u001b[0m\u001b[0;34m=\u001b[0m\u001b[0moutput_subset\u001b[0m\u001b[0;34m)\u001b[0m\u001b[0;34m\u001b[0m\u001b[0m\n\u001b[1;32m    886\u001b[0m         \u001b[0;32mexcept\u001b[0m \u001b[0mException\u001b[0m\u001b[0;34m:\u001b[0m\u001b[0;34m\u001b[0m\u001b[0m\n",
      "\u001b[0;31mKeyboardInterrupt\u001b[0m: "
     ]
    }
   ],
   "source": [
    "import time\n",
    "\n",
    "num_epochs = 100 #количество проходов по данным\n",
    "\n",
    "batch_size = 128 #размер мини-батча\n",
    "\n",
    "\n",
    "for epoch in range(55, num_epochs):\n",
    "    # In each epoch, we do a full pass over the training data:\n",
    "    \n",
    "    train_err = 0\n",
    "    train_acc = 0\n",
    "    train_batches = 0\n",
    "    start_time = time.time()\n",
    "    for batch in iterate_minibatches(X_train, y_train, batch_size, shuffle=True, augment=True):\n",
    "        inputs, targets = batch\n",
    "        train_err_batch, train_acc_batch = train_fun(inputs, targets)\n",
    "        train_err += train_err_batch\n",
    "        train_acc += train_acc_batch\n",
    "        train_batches += 1\n",
    "\n",
    "    # And a full pass over the validation data:\n",
    "    val_acc = 0\n",
    "    val_batches = 0\n",
    "    for batch in iterate_minibatches(X_test, y_test, batch_size):\n",
    "        inputs, targets = batch\n",
    "        val_acc += accuracy_fun(inputs, targets)\n",
    "        val_batches += 1\n",
    "\n",
    "    # Then we print the results for this epoch:\n",
    "    print(\"Epoch {} of {} took {:.3f}s\".format(epoch+1, num_epochs+1, time.time() - start_time))\n",
    "    print(\"  training loss (in-iteration):\\t\\t{:.6f}\".format(train_err / train_batches))\n",
    "    print(\"  train accuracy:\\t\\t{:.2f} %\".format(train_acc / train_batches * 100))\n",
    "    print(\"  validation accuracy:\\t\\t{:.2f} %\".format(val_acc / val_batches * 100))\n",
    "\n",
    "    if (epoch + 1) == 41 or (epoch + 1) == 71:\n",
    "        curr_lr = curr_lr * 0.1\n",
    "        print(\"New LR: {}\".format(curr_lr))\n",
    "        updates = lasagne.updates.momentum(loss, all_weights, learning_rate=curr_lr, momentum=0.9)\n",
    "        train_fun = theano.function(\n",
    "            [input_X, target_y], [loss, accuracy], updates=updates, allow_input_downcast=True)\n",
    "        accuracy_fun = theano.function([input_X, target_y], accuracy, allow_input_downcast=True)"
   ]
  },
  {
   "cell_type": "markdown",
   "metadata": {},
   "source": [
    "Остановил и попробовал стать колдуном 80 уровня, но нехватило совсем немного. Поэтому попробуем дообучить сеть."
   ]
  },
  {
   "cell_type": "code",
   "execution_count": 19,
   "metadata": {},
   "outputs": [
    {
     "name": "stderr",
     "output_type": "stream",
     "text": [
      "/home/ec2-user/anaconda3/lib/python3.6/site-packages/ipykernel/__main__.py:19: DeprecationWarning: This function is deprecated. Please call randint(0, 8 + 1) instead\n"
     ]
    },
    {
     "name": "stdout",
     "output_type": "stream",
     "text": [
      "Epoch 63 of 101 took 379.246s\n",
      "  training loss (in-iteration):\t\t0.246679\n",
      "  train accuracy:\t\t99.66 %\n",
      "  validation accuracy:\t\t91.75 %\n",
      "Epoch 64 of 101 took 379.250s\n",
      "  training loss (in-iteration):\t\t0.245784\n",
      "  train accuracy:\t\t99.66 %\n",
      "  validation accuracy:\t\t91.83 %\n"
     ]
    },
    {
     "ename": "KeyboardInterrupt",
     "evalue": "",
     "output_type": "error",
     "traceback": [
      "\u001b[0;31m---------------------------------------------------------------------------\u001b[0m",
      "\u001b[0;31mKeyboardInterrupt\u001b[0m                         Traceback (most recent call last)",
      "\u001b[0;32m<ipython-input-19-f3942147d9b0>\u001b[0m in \u001b[0;36m<module>\u001b[0;34m()\u001b[0m\n\u001b[1;32m     15\u001b[0m     \u001b[0;32mfor\u001b[0m \u001b[0mbatch\u001b[0m \u001b[0;32min\u001b[0m \u001b[0miterate_minibatches\u001b[0m\u001b[0;34m(\u001b[0m\u001b[0mX_train\u001b[0m\u001b[0;34m,\u001b[0m \u001b[0my_train\u001b[0m\u001b[0;34m,\u001b[0m \u001b[0mbatch_size\u001b[0m\u001b[0;34m,\u001b[0m \u001b[0mshuffle\u001b[0m\u001b[0;34m=\u001b[0m\u001b[0;32mTrue\u001b[0m\u001b[0;34m,\u001b[0m \u001b[0maugment\u001b[0m\u001b[0;34m=\u001b[0m\u001b[0;32mTrue\u001b[0m\u001b[0;34m)\u001b[0m\u001b[0;34m:\u001b[0m\u001b[0;34m\u001b[0m\u001b[0m\n\u001b[1;32m     16\u001b[0m         \u001b[0minputs\u001b[0m\u001b[0;34m,\u001b[0m \u001b[0mtargets\u001b[0m \u001b[0;34m=\u001b[0m \u001b[0mbatch\u001b[0m\u001b[0;34m\u001b[0m\u001b[0m\n\u001b[0;32m---> 17\u001b[0;31m         \u001b[0mtrain_err_batch\u001b[0m\u001b[0;34m,\u001b[0m \u001b[0mtrain_acc_batch\u001b[0m \u001b[0;34m=\u001b[0m \u001b[0mtrain_fun\u001b[0m\u001b[0;34m(\u001b[0m\u001b[0minputs\u001b[0m\u001b[0;34m,\u001b[0m \u001b[0mtargets\u001b[0m\u001b[0;34m)\u001b[0m\u001b[0;34m\u001b[0m\u001b[0m\n\u001b[0m\u001b[1;32m     18\u001b[0m         \u001b[0mtrain_err\u001b[0m \u001b[0;34m+=\u001b[0m \u001b[0mtrain_err_batch\u001b[0m\u001b[0;34m\u001b[0m\u001b[0m\n\u001b[1;32m     19\u001b[0m         \u001b[0mtrain_acc\u001b[0m \u001b[0;34m+=\u001b[0m \u001b[0mtrain_acc_batch\u001b[0m\u001b[0;34m\u001b[0m\u001b[0m\n",
      "\u001b[0;32m/home/ec2-user/anaconda3/lib/python3.6/site-packages/theano/compile/function_module.py\u001b[0m in \u001b[0;36m__call__\u001b[0;34m(self, *args, **kwargs)\u001b[0m\n\u001b[1;32m    882\u001b[0m         \u001b[0;32mtry\u001b[0m\u001b[0;34m:\u001b[0m\u001b[0;34m\u001b[0m\u001b[0m\n\u001b[1;32m    883\u001b[0m             \u001b[0moutputs\u001b[0m \u001b[0;34m=\u001b[0m\u001b[0;31m\\\u001b[0m\u001b[0;34m\u001b[0m\u001b[0m\n\u001b[0;32m--> 884\u001b[0;31m                 \u001b[0mself\u001b[0m\u001b[0;34m.\u001b[0m\u001b[0mfn\u001b[0m\u001b[0;34m(\u001b[0m\u001b[0;34m)\u001b[0m \u001b[0;32mif\u001b[0m \u001b[0moutput_subset\u001b[0m \u001b[0;32mis\u001b[0m \u001b[0;32mNone\u001b[0m \u001b[0;32melse\u001b[0m\u001b[0;31m\\\u001b[0m\u001b[0;34m\u001b[0m\u001b[0m\n\u001b[0m\u001b[1;32m    885\u001b[0m                 \u001b[0mself\u001b[0m\u001b[0;34m.\u001b[0m\u001b[0mfn\u001b[0m\u001b[0;34m(\u001b[0m\u001b[0moutput_subset\u001b[0m\u001b[0;34m=\u001b[0m\u001b[0moutput_subset\u001b[0m\u001b[0;34m)\u001b[0m\u001b[0;34m\u001b[0m\u001b[0m\n\u001b[1;32m    886\u001b[0m         \u001b[0;32mexcept\u001b[0m \u001b[0mException\u001b[0m\u001b[0;34m:\u001b[0m\u001b[0;34m\u001b[0m\u001b[0m\n",
      "\u001b[0;31mKeyboardInterrupt\u001b[0m: "
     ]
    }
   ],
   "source": [
    "import time\n",
    "\n",
    "num_epochs = 100 #количество проходов по данным\n",
    "\n",
    "batch_size = 128 #размер мини-батча\n",
    "\n",
    "\n",
    "for epoch in range(62, num_epochs):\n",
    "    # In each epoch, we do a full pass over the training data:\n",
    "    \n",
    "    train_err = 0\n",
    "    train_acc = 0\n",
    "    train_batches = 0\n",
    "    start_time = time.time()\n",
    "    for batch in iterate_minibatches(X_train, y_train, batch_size, shuffle=True, augment=True):\n",
    "        inputs, targets = batch\n",
    "        train_err_batch, train_acc_batch = train_fun(inputs, targets)\n",
    "        train_err += train_err_batch\n",
    "        train_acc += train_acc_batch\n",
    "        train_batches += 1\n",
    "\n",
    "    # And a full pass over the validation data:\n",
    "    val_acc = 0\n",
    "    val_batches = 0\n",
    "    for batch in iterate_minibatches(X_test, y_test, batch_size):\n",
    "        inputs, targets = batch\n",
    "        val_acc += accuracy_fun(inputs, targets)\n",
    "        val_batches += 1\n",
    "\n",
    "    # Then we print the results for this epoch:\n",
    "    print(\"Epoch {} of {} took {:.3f}s\".format(epoch+1, num_epochs+1, time.time() - start_time))\n",
    "    print(\"  training loss (in-iteration):\\t\\t{:.6f}\".format(train_err / train_batches))\n",
    "    print(\"  train accuracy:\\t\\t{:.2f} %\".format(train_acc / train_batches * 100))\n",
    "    print(\"  validation accuracy:\\t\\t{:.2f} %\".format(val_acc / val_batches * 100))\n",
    "\n",
    "    if (epoch + 1) == 41 or (epoch + 1) == 71:\n",
    "        curr_lr = curr_lr * 0.1\n",
    "        print(\"New LR: {}\".format(curr_lr))\n",
    "        updates = lasagne.updates.momentum(loss, all_weights, learning_rate=curr_lr, momentum=0.9)\n",
    "        train_fun = theano.function(\n",
    "            [input_X, target_y], [loss, accuracy], updates=updates, allow_input_downcast=True)\n",
    "        accuracy_fun = theano.function([input_X, target_y], accuracy, allow_input_downcast=True)"
   ]
  },
  {
   "cell_type": "code",
   "execution_count": 25,
   "metadata": {},
   "outputs": [
    {
     "name": "stdout",
     "output_type": "stream",
     "text": [
      "0.0010000000000000002\n"
     ]
    }
   ],
   "source": [
    "print(curr_lr)"
   ]
  },
  {
   "cell_type": "code",
   "execution_count": null,
   "metadata": {
    "collapsed": true
   },
   "outputs": [],
   "source": []
  },
  {
   "cell_type": "code",
   "execution_count": 26,
   "metadata": {},
   "outputs": [
    {
     "name": "stdout",
     "output_type": "stream",
     "text": [
      "Final results:\n",
      "  test accuracy:\t\t92.53 %\n",
      "Achievement unlocked: колдун 80 уровня\n"
     ]
    }
   ],
   "source": [
    "test_acc = 0\n",
    "test_batches = 0\n",
    "for batch in iterate_minibatches(X_test, y_test, 500):\n",
    "    inputs, targets = batch\n",
    "    acc = accuracy_fun(inputs, targets)\n",
    "    test_acc += acc\n",
    "    test_batches += 1\n",
    "print(\"Final results:\")\n",
    "print(\"  test accuracy:\\t\\t{:.2f} %\".format(\n",
    "    test_acc / test_batches * 100))\n",
    "\n",
    "if test_acc / test_batches * 100 > 92.5:\n",
    "    print(\"Achievement unlocked: колдун 80 уровня\")\n",
    "else:\n",
    "    print(\"Нужно больше магии!\")"
   ]
  },
  {
   "cell_type": "markdown",
   "metadata": {},
   "source": [
    "## Заполните форму\n",
    "\n",
    "https://goo.gl/forms/EeadABISlVmdJqgr2 "
   ]
  },
  {
   "cell_type": "code",
   "execution_count": null,
   "metadata": {
    "collapsed": true
   },
   "outputs": [],
   "source": []
  }
 ],
 "metadata": {
  "kernelspec": {
   "display_name": "Python 3",
   "language": "python",
   "name": "python3"
  },
  "language_info": {
   "codemirror_mode": {
    "name": "ipython",
    "version": 3
   },
   "file_extension": ".py",
   "mimetype": "text/x-python",
   "name": "python",
   "nbconvert_exporter": "python",
   "pygments_lexer": "ipython3",
   "version": "3.6.1"
  }
 },
 "nbformat": 4,
 "nbformat_minor": 2
}
